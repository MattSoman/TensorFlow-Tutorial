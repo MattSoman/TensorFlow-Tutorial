{
 "cells": [
  {
   "cell_type": "markdown",
   "metadata": {},
   "source": [
    "# BDT  - This is a Boosted Decision Tree example using SciKit Learn\n",
    "\n",
    "    Copyright (C) 2020 Adrian Bevan, Queen Mary University of London\n",
    "\n",
    "    This program is free software: you can redistribute it and/or modify\n",
    "    it under the terms of the GNU General Public License as published by\n",
    "    the Free Software Foundation, either version 3 of the License, or\n",
    "    (at your option) any later version.\n",
    "\n",
    "    This program is distributed in the hope that it will be useful,\n",
    "    but WITHOUT ANY WARRANTY; without even the implied warranty of\n",
    "    MERCHANTABILITY or FITNESS FOR A PARTICULAR PURPOSE.  See the\n",
    "    GNU General Public License for more details.\n",
    "\n",
    "    You should have received a copy of the GNU General Public License\n",
    "    along with this program.  If not, see <https://www.gnu.org/licenses/>.\n",
    "    \n",
    "----------------------\n",
    "## Boosted Decision Trees\n",
    "\n",
    "Decision trees are weak learners. The method of boosting was introduced in order to allow an ensemble of weak learners to be used in a classification or regression problem. The ensemble of weak learners tends to be a strong learner, and is less susceptible to over training. This notebook will use the iris data used in the paper by R. A. Fisher \"The use of multiple measurements in taxonomic problems\" Annual Eugenics, 7, Part II, 179-188 (1936).  The Boosting algorithm used by this example is the Adaptive Boost (or AdaBoost).  This classifier is described in more detail on the sklearn website: [AdaBoostClassifier](https://scikit-learn.org/stable/modules/generated/sklearn.ensemble.AdaBoostClassifier.html). \n",
    "\n",
    "The data are split into test and train samples, and the classifier is learned on the train sample. The residual test sample is then used to evaluate the performance of the classifier learned."
   ]
  },
  {
   "cell_type": "code",
   "execution_count": 3,
   "metadata": {},
   "outputs": [
    {
     "name": "stdout",
     "output_type": "stream",
     "text": [
      "\u001b[1mLoad the sklearn Iris data\u001b[0m\n",
      "\n",
      "Iris data have been split into test and train samples\n",
      "\tN(train) =  112\n",
      "\tN(test)  =  38\n",
      "\u001b[1mFit the decision tree\u001b[0m\n",
      "... now compute the decision tree score\n",
      "\n",
      "Decision Tree Classifier Score is:\n",
      "\tTrain Score =  0.9375  (This measure of performance is biased)\n",
      "\tTest Score  = 0.8947\n",
      "\tNumber of mis-classified test data = 4.0\n"
     ]
    }
   ],
   "source": [
    "import numpy as np\n",
    "import matplotlib.pyplot as plt\n",
    "from sklearn.datasets import load_iris\n",
    "from sklearn.model_selection import cross_val_score\n",
    "from sklearn.model_selection import train_test_split\n",
    "from sklearn.ensemble import AdaBoostClassifier\n",
    "from sklearn.metrics import confusion_matrix\n",
    "import seaborn as sns\n",
    "\n",
    "# Parameters\n",
    "n_classes = 3\n",
    "plot_colors = \"ryb\"\n",
    "plot_step = 0.01\n",
    "\n",
    "# Load data\n",
    "print(\"\\033[1mLoad the sklearn Iris data\\033[0m\\n\")\n",
    "iris = load_iris()\n",
    "\n",
    "# split the data into test and train samples. The train sample will be used to learn\n",
    "# the model, and the test sample will be used to evaluate module performance.\n",
    "X_train, X_test, y_train, y_test = train_test_split(iris.data, iris.target, random_state=0)\n",
    "print(\"Iris data have been split into test and train samples\")\n",
    "print(\"\\tN(train) = \", len(X_train))\n",
    "print(\"\\tN(test)  = \", len(X_test))\n",
    "\n",
    "\n",
    "print(\"\\033[1mFit the decision tree\\033[0m\")\n",
    "BDT_clf = AdaBoostClassifier(n_estimators=100).fit(X_train, y_train)\n",
    "\n",
    "print(\"... now compute the decision tree score\")\n",
    "train_score = BDT_clf.score(X_train, y_train)\n",
    "test_score  = BDT_clf.score(X_test, y_test)\n",
    "\n",
    "print(\"\\nDecision Tree Classifier Score is:\")\n",
    "print(\"\\tTrain Score = \", train_score, \" (This measure of performance is biased)\")\n",
    "print(\"\\tTest Score  = {:5.4f}\".format(test_score))\n",
    "print(\"\\tNumber of mis-classified test data = {:2.1f}\".format((1-test_score)*len(X_test)))"
   ]
  },
  {
   "cell_type": "markdown",
   "metadata": {},
   "source": [
    "------------------------\n",
    "## Evaluating the model\n",
    "\n",
    "Having learned the classification model we can now apply this to the test data. This is done by using the model to predict an output given the input data examples. Those predicted classification labels can be compared against the true values on an individual basis and via a confusion matrix (a $2\\times 2$ matrix of ground truth vs model predictions, where the off-diagonal terms are mis-clasified examples).\n"
   ]
  },
  {
   "cell_type": "code",
   "execution_count": 4,
   "metadata": {},
   "outputs": [
    {
     "name": "stdout",
     "output_type": "stream",
     "text": [
      "\n",
      "\u001b[1mStudy the test data\u001b[0m\n",
      "\n",
      "confusion matrix (test) = \n",
      " [[13  0  0]\n",
      " [ 0 16  0]\n",
      " [ 0  4  5]]\n"
     ]
    },
    {
     "data": {
      "image/png": "[encoded data removed]",
      "text/plain": [
       "<Figure size 432x288 with 2 Axes>"
      ]
     },
     "metadata": {
      "needs_background": "light"
     },
     "output_type": "display_data"
    },
    {
     "name": "stdout",
     "output_type": "stream",
     "text": [
      "\n",
      "\u001b[1mCheck ground truth against predictions for the test sample\u001b[0m\n",
      "Truth\tPrediction\tCorrect Prediction\n",
      "2\t2\tTrue\n",
      "1\t1\tTrue\n",
      "0\t0\tTrue\n",
      "2\t2\tTrue\n",
      "0\t0\tTrue\n",
      "2\t2\tTrue\n",
      "0\t0\tTrue\n",
      "1\t1\tTrue\n",
      "1\t1\tTrue\n",
      "1\t1\tTrue\n",
      "2\t1\tFalse\n",
      "1\t1\tTrue\n",
      "1\t1\tTrue\n",
      "1\t1\tTrue\n",
      "1\t1\tTrue\n",
      "0\t0\tTrue\n",
      "1\t1\tTrue\n",
      "1\t1\tTrue\n",
      "0\t0\tTrue\n",
      "0\t0\tTrue\n",
      "2\t1\tFalse\n",
      "1\t1\tTrue\n",
      "0\t0\tTrue\n",
      "0\t0\tTrue\n",
      "2\t1\tFalse\n",
      "0\t0\tTrue\n",
      "0\t0\tTrue\n",
      "1\t1\tTrue\n",
      "1\t1\tTrue\n",
      "0\t0\tTrue\n",
      "2\t2\tTrue\n",
      "1\t1\tTrue\n",
      "0\t0\tTrue\n",
      "2\t1\tFalse\n",
      "2\t2\tTrue\n",
      "1\t1\tTrue\n",
      "0\t0\tTrue\n",
      "1\t1\tTrue\n",
      "\n",
      "\u001b[1mRun Cross Validation On the Sample\u001b[0m\n",
      "cross validation scores =  [0.91666667 0.95652174 1.         0.86363636 0.95238095]\n",
      "\tmean = 0.9378\n"
     ]
    }
   ],
   "source": [
    "#\n",
    "# Use the test data to compute a confusion matrix and to compare predictions against\n",
    "# the ground truth labels.\n",
    "#\n",
    "print(\"\\n\\033[1mStudy the test data\\033[0m\")\n",
    "predictions = BDT_clf.predict(X_test)\n",
    "BDTcm = confusion_matrix(y_test, predictions)\n",
    "print(\"\\nconfusion matrix (test) = \\n\", BDTcm)\n",
    "sns.heatmap(BDTcm, center=True)\n",
    "plt.show()\n",
    "\n",
    "#\n",
    "# Compare the ground truth and model prediction\n",
    "#\n",
    "\n",
    "print(\"\\n\\033[1mCheck ground truth against predictions for the test sample\\033[0m\")\n",
    "print(\"Truth\\tPrediction\\tCorrect Prediction\")\n",
    "for i in range(len(predictions)):\n",
    "    Match = False\n",
    "    if predictions[i] == y_test[i]:\n",
    "        Match = True\n",
    "    print(\"{:}\\t{:}\\t{:}\".format(y_test[i], predictions[i], Match))\n",
    "\n",
    "#\n",
    "# Try cross validation with this sample - 5 splits of the data.  For this \n",
    "# look at the accuracy scores for each split in order to determine the\n",
    "# mean performance.\n",
    "#\n",
    "print(\"\\n\\033[1mRun Cross Validation On the Sample\\033[0m\")\n",
    "scores = cross_val_score(BDT_clf, X_train, y_train, cv=5)\n",
    "print(\"cross validation scores = \", scores)\n",
    "print(\"\\tmean = {:5.4f}\".format(scores.mean()))\n"
   ]
  },
  {
   "cell_type": "code",
   "execution_count": null,
   "metadata": {},
   "outputs": [],
   "source": []
  }
 ],
 "metadata": {
  "kernelspec": {
   "display_name": "Python 3",
   "language": "python",
   "name": "python3"
  },
  "language_info": {
   "codemirror_mode": {
    "name": "ipython",
    "version": 3
   },
   "file_extension": ".py",
   "mimetype": "text/x-python",
   "name": "python",
   "nbconvert_exporter": "python",
   "pygments_lexer": "ipython3",
   "version": "3.7.3"
  }
 },
 "nbformat": 4,
 "nbformat_minor": 4
}
