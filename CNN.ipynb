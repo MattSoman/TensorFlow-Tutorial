{
 "cells": [
  {
   "cell_type": "markdown",
   "metadata": {},
   "source": [
    "# CNN  - This is a Convolutional Neural Network example using Keras\n",
    "\n",
    "    Copyright (C) 2020 Adrian Bevan, Queen Mary University of London\n",
    "\n",
    "    This program is free software: you can redistribute it and/or modify\n",
    "    it under the terms of the GNU General Public License as published by\n",
    "    the Free Software Foundation, either version 3 of the License, or\n",
    "    (at your option) any later version.\n",
    "\n",
    "    This program is distributed in the hope that it will be useful,\n",
    "    but WITHOUT ANY WARRANTY; without even the implied warranty of\n",
    "    MERCHANTABILITY or FITNESS FOR A PARTICULAR PURPOSE.  See the\n",
    "    GNU General Public License for more details.\n",
    "\n",
    "    You should have received a copy of the GNU General Public License\n",
    "    along with this program.  If not, see <https://www.gnu.org/licenses/>.\n",
    "    \n",
    "----------------------\n",
    "\n",
    "CNN example using a Keras model. This is a simple example of a 2-conv layer with max pooling CNN example that has fully connected (Dense) layers following prior to the output prediction. This example is used for processing the MNIST (or CFAR10) data using the Adam optimiser. \n",
    "\n",
    "For more information about the Adam optimiser please see the  paper by Kingma and Ba, [arXiv:1412.6980](https://arxiv.org/abs/1412.6980).\n",
    "\n",
    "## Useful background on MNIST and data wrangling\n",
    "\n",
    "Set `UseMNIST = True` to train on the MNIST data.\n",
    "\n",
    "The MNIST data is a set of 60,000 training and 10,000 test examples.  Each example is a hand written integer between 0 and 9, represented by a greyscale image with 28x28 pixels. This constitutes a 784 dimensional input feature space, where each image is a number between 0 and 255 (8 bit greyscale).  \n",
    " \n",
    "For more information about the MNIST data set please see the website http://yann.lecun.com/exdb/mnist/.\n",
    "\n",
    "## Useful background on CFAR10\n",
    "\n",
    "Set `UseMNIST = False` to train on the CFAR10 data.\n",
    "\n",
    "The CFAR10 data is a set of 60000 training and 50000 test examples. Each example is one of 10 categories, and is represented by colour image with 32x32 pixels.  This constitutes a 3072 dimensional input feature space (32x32x3), where each feature is an 8bit colour representation, i.e. a number between 0 and 255.  The 10 categories are: airplane, automobile, bird, cat, deer, dog, frog, horse, ship and truck.\n",
    "\n",
    "For more information about the CFAR10 (and CFAR100) data set please see the website https://www.cs.toronto.edu/~kriz/cifar.html.\n",
    "\n",
    "\n",
    "## Data Wrangling\n",
    "\n",
    "In order for an image to be processed efficiently by a neural network the pixel colour in the range $[0, 255]$ is mapped into the domain $[0, 1]$, following the usual [Efficient Backpropagation](http://yann.lecun.com/exdb/publis/pdf/lecun-98b.pdf) data wrangling guidelines. For an MLP the 28x28 pixel image features (i.e. the pixels) are considered a linear set of 784 features that are input to the network.\n",
    "\n",
    "\n",
    "----------------------\n",
    "## Load and pre-process the data\n",
    "\n",
    "The MNIST data are directly accessible via keras as a dataset. So we first load the data. As noted above (and as you will have explored in the linear regression example), it is important to closely match the weights used in a network with the feature space domain that is being studied, so that the optimiser has less work to do in order to converge to the optimal solution.  In this case we achieve that by mapping the 8-bit greyscale color value $[0, 255]$ on the domain $[0, 1]$."
   ]
  },
  {
   "cell_type": "code",
   "execution_count": 4,
   "metadata": {},
   "outputs": [
    {
     "name": "stdout",
     "output_type": "stream",
     "text": [
      "\u001b[92mLoading the CFAR10 data from keras\u001b[0m\n",
      "\tN(train)             =  50000\n",
      "\tN(test)              =  10000\n"
     ]
    }
   ],
   "source": [
    "import tensorflow as tf\n",
    "import warnings\n",
    "warnings.filterwarnings(\"ignore\")\n",
    "\n",
    "print(\"\\033[92mLoading the CFAR10 data from keras\\033[0m\")\n",
    "# Load the CFAR10 data via the tensorflow keras dataset:\n",
    "cifar10 = tf.keras.datasets.cifar10\n",
    "(x_train, y_train), (x_test, y_test) = cifar10.load_data()\n",
    "x_train, x_test = x_train / 255.0, x_test / 255.0\n",
    "\n",
    "print(\"\\tN(train)             = \", len(x_train))\n",
    "print(\"\\tN(test)              = \", len(x_test))\n"
   ]
  },
  {
   "cell_type": "code",
   "execution_count": null,
   "metadata": {},
   "outputs": [],
   "source": []
  }
 ],
 "metadata": {
  "kernelspec": {
   "display_name": "Python 3",
   "language": "python",
   "name": "python3"
  },
  "language_info": {
   "codemirror_mode": {
    "name": "ipython",
    "version": 3
   },
   "file_extension": ".py",
   "mimetype": "text/x-python",
   "name": "python",
   "nbconvert_exporter": "python",
   "pygments_lexer": "ipython3",
   "version": "3.7.3"
  }
 },
 "nbformat": 4,
 "nbformat_minor": 4
}
