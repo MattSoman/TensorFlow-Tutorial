{
 "cells": [
  {
   "cell_type": "markdown",
   "metadata": {},
   "source": [
    "# LinearRegression  - This is a linear regregssion example using Keras\n",
    "\n",
    "    Copyright (C) 2020 Adrian Bevan, Queen Mary University of London\n",
    "\n",
    "    This program is free software: you can redistribute it and/or modify\n",
    "    it under the terms of the GNU General Public License as published by\n",
    "    the Free Software Foundation, either version 3 of the License, or\n",
    "    (at your option) any later version.\n",
    "\n",
    "    This program is distributed in the hope that it will be useful,\n",
    "    but WITHOUT ANY WARRANTY; without even the implied warranty of\n",
    "    MERCHANTABILITY or FITNESS FOR A PARTICULAR PURPOSE.  See the\n",
    "    GNU General Public License for more details.\n",
    "\n",
    "    You should have received a copy of the GNU General Public License\n",
    "    along with this program.  If not, see <https://www.gnu.org/licenses/>.\n",
    "    \n",
    "----------------------\n",
    "\n",
    "LinearRegression example using a Keras model. This is a simple example $y = mx+c$ fitting example that uses an Adam optimiser.  For more information about this optimiser please see the original paper by Kingma and Ba, [arXiv:1412.6980](https://arxiv.org/abs/1412.6980).\n",
    "\n",
    "----------------------\n",
    "## Generating the data\n",
    "\n",
    "To generate the data we randomly sample the domain $x = [xmin, xmax]$, and the noise in this case\n",
    "is assumed to be relative to the magnitude of the signal (i.e. y value).\n"
   ]
  },
  {
   "cell_type": "code",
   "execution_count": 29,
   "metadata": {},
   "outputs": [
    {
     "name": "stdout",
     "output_type": "stream",
     "text": [
      "Generating the parabola data set\n",
      "Have generated:\n",
      "\tN(train) examples            =  1000\n",
      "\tN(test) examples             =  1000\n"
     ]
    }
   ],
   "source": [
    "import warnings\n",
    "warnings.filterwarnings(\"ignore\")\n",
    "import tensorflow as tf\n",
    "import matplotlib.pyplot as plt\n",
    "import random\n",
    "\n",
    "\n",
    "\"\"\"\n",
    "Generate the data to be fitted\n",
    "    xmin      Minimum value in x to sample\n",
    "    xmax      Maximum value in x to sample\n",
    "    Ntrain    Number of train data to generate\n",
    "    Ntest     Number of test data to generate\n",
    "    m         gradient for the line\n",
    "    c         constant offset\n",
    "    Noise     (fractional) Noise level to generate\n",
    "\"\"\"\n",
    "xmin   = -10\n",
    "xmax   = 10\n",
    "Ntrain = 1000\n",
    "Ntest  = 1000\n",
    "m      = 1.0\n",
    "c      = 0.0\n",
    "Noise  = 0.1\n",
    "\n",
    "def genData(xmin, xmax, Ntrain, Ntest, m, c, Noise):\n",
    "    \"\"\"\n",
    "    Function to generate an ensemble of test and train data for fitting\n",
    "    \"\"\"\n",
    "    print(\"Generating the parabola data set\")\n",
    "    x_train = []\n",
    "    y_train = []\n",
    "    x_test  = []\n",
    "    y_test  = []\n",
    "\n",
    "    #--------------------------------------------------------------------\n",
    "    def sim_line(xmin, xmax, m, c, Noise):\n",
    "        \"\"\"\n",
    "        Function to simulate a random data point for a parabola\n",
    "        \"\"\"\n",
    "        x = random.random()*(xmax-xmin)+xmin\n",
    "        y = (m*x+c)*(1 + random.random()*Noise)\n",
    "    \n",
    "        return x, y\n",
    "    #--------------------------------------------------------------------\n",
    "  \n",
    "    for i in range( Ntrain ):\n",
    "        x,y = sim_line(xmin, xmax, m, c, Noise)\n",
    "        x_train.append(x)\n",
    "        y_train.append(y)\n",
    "\n",
    "    for i in range( Ntest ):\n",
    "        x,y = sim_line(xmin, xmax, m, c, Noise)\n",
    "        x_test.append(x)\n",
    "        y_test.append(y)\n",
    "    \n",
    "    return x_train, y_train, x_test, y_test\n",
    "\n",
    "# generate data for fitting\n",
    "x_train, y_train, x_test, y_test = genData(xmin, xmax, 1000, 1000, 1.0, 0.0, 0.1)\n",
    "\n",
    "print(\"Have generated:\")\n",
    "print(\"\\tN(train) examples            = \", len(x_train))\n",
    "print(\"\\tN(test) examples             = \", len(x_test))\n"
   ]
  },
  {
   "cell_type": "markdown",
   "metadata": {},
   "source": [
    "## Building the model\n",
    "\n",
    "Having generated the data we will now build a model for the optimisation problem. For this we need to make a Dense layer with a linear activation function.  If we are interested in tuning intial parameters for this model, then that can accelerate the optimisation process; but here we use the nominal values assigned when randomly initialised.\n",
    "\n",
    "The hyper parameters of the model are a single weight and a single bias, i.e. $m$ and $c$, respectively. These parameters need to be optimised, and here we use the Mean Square Error loss function. i.e.\n",
    "\n",
    "$MSE = \\frac{1}{n}\\sum\\limits_{i=1}^{n} (y_i - \\widehat{y}(x_i))$"
   ]
  },
  {
   "cell_type": "code",
   "execution_count": 27,
   "metadata": {},
   "outputs": [
    {
     "name": "stdout",
     "output_type": "stream",
     "text": [
      "--------------------------------------------------------------------------------------------------------------\n",
      "Will perform a linear regression optimisation\n",
      "--------------------------------------------------------------------------------------------------------------\n",
      "\n",
      "\n",
      "Input data Linear Regression Data\n",
      "Nepochs              =  30\n",
      "learning rate        =  0.5\n",
      "Optimser             =  Adam\n",
      "Loss function        =  MSE\n",
      "Epoch 1/30\n",
      "1000/1000 [==============================] - 0s 178us/sample - loss: 6.3700\n",
      "Epoch 2/30\n",
      "1000/1000 [==============================] - 0s 23us/sample - loss: 0.2827\n",
      "Epoch 3/30\n",
      "1000/1000 [==============================] - 0s 21us/sample - loss: 0.0328\n",
      "Epoch 4/30\n",
      "1000/1000 [==============================] - 0s 22us/sample - loss: 0.0263\n",
      "Epoch 5/30\n",
      "1000/1000 [==============================] - 0s 22us/sample - loss: 0.0266\n",
      "Epoch 6/30\n",
      "1000/1000 [==============================] - 0s 21us/sample - loss: 0.0300\n",
      "Epoch 7/30\n",
      "1000/1000 [==============================] - 0s 22us/sample - loss: 0.0323\n",
      "Epoch 8/30\n",
      "1000/1000 [==============================] - 0s 21us/sample - loss: 0.0307\n",
      "Epoch 9/30\n",
      "1000/1000 [==============================] - 0s 20us/sample - loss: 0.0287\n",
      "Epoch 10/30\n",
      "1000/1000 [==============================] - 0s 22us/sample - loss: 0.0290\n",
      "Epoch 11/30\n",
      "1000/1000 [==============================] - 0s 22us/sample - loss: 0.0272\n",
      "Epoch 12/30\n",
      "1000/1000 [==============================] - 0s 20us/sample - loss: 0.0308\n",
      "Epoch 13/30\n",
      "1000/1000 [==============================] - 0s 23us/sample - loss: 0.0279\n",
      "Epoch 14/30\n",
      "1000/1000 [==============================] - 0s 22us/sample - loss: 0.0291\n",
      "Epoch 15/30\n",
      "1000/1000 [==============================] - 0s 22us/sample - loss: 0.0326\n",
      "Epoch 16/30\n",
      "1000/1000 [==============================] - 0s 20us/sample - loss: 0.0312\n",
      "Epoch 17/30\n",
      "1000/1000 [==============================] - 0s 21us/sample - loss: 0.0305\n",
      "Epoch 18/30\n",
      "1000/1000 [==============================] - 0s 21us/sample - loss: 0.0402\n",
      "Epoch 19/30\n",
      "1000/1000 [==============================] - 0s 22us/sample - loss: 0.0272\n",
      "Epoch 20/30\n",
      "1000/1000 [==============================] - 0s 21us/sample - loss: 0.0318\n",
      "Epoch 21/30\n",
      "1000/1000 [==============================] - 0s 21us/sample - loss: 0.0400\n",
      "Epoch 22/30\n",
      "1000/1000 [==============================] - 0s 21us/sample - loss: 0.0266\n",
      "Epoch 23/30\n",
      "1000/1000 [==============================] - 0s 20us/sample - loss: 0.0279\n",
      "Epoch 24/30\n",
      "1000/1000 [==============================] - 0s 20us/sample - loss: 0.0314\n",
      "Epoch 25/30\n",
      "1000/1000 [==============================] - 0s 18us/sample - loss: 0.0328\n",
      "Epoch 26/30\n",
      "1000/1000 [==============================] - 0s 21us/sample - loss: 0.0363\n",
      "Epoch 27/30\n",
      "1000/1000 [==============================] - 0s 22us/sample - loss: 0.0312\n",
      "Epoch 28/30\n",
      "1000/1000 [==============================] - 0s 19us/sample - loss: 0.0354\n",
      "Epoch 29/30\n",
      "1000/1000 [==============================] - 0s 18us/sample - loss: 0.0322\n",
      "Epoch 30/30\n",
      "1000/1000 [==============================] - 0s 23us/sample - loss: 0.0290\n",
      "history keys =  dict_keys(['loss'])\n",
      "Display the evolution of the loss as a function of the training epoch\n",
      "  N(Epochs)                =  30\n",
      "  Initial loss (train)     = 6.3700\n",
      "  Final loss (train)       = 0.0290\n"
     ]
    }
   ],
   "source": [
    "#\n",
    "# Training configuration\n",
    "#\n",
    "Nepochs         = 30\n",
    "learning_rate   = 0.5\n",
    "\n",
    "# build the model\n",
    "model = tf.keras.models.Sequential()\n",
    "model.add( tf.keras.layers.Dense(1, activation='linear', input_shape=[1,]) )\n",
    "\n",
    "# now specify the loss function - MSE\n",
    "loss_fn = tf.keras.losses.MSE\n",
    "\n",
    "# now we can train the model to make predictions.\n",
    "#   Use the ADAM optimiser\n",
    "#   Specify the metrics to report as accuracy\n",
    "#   Specify the loss function (see above)\n",
    "# the fit step specifies the number of training epochs\n",
    "opt = tf.keras.optimizers.Adam(learning_rate=learning_rate)\n",
    "model.compile(optimizer=opt, loss=loss_fn )\n",
    "\n",
    "print(\"--------------------------------------------------------------------------------------------------------------\")\n",
    "print(\"Will perform a linear regression optimisation\")\n",
    "print(\"--------------------------------------------------------------------------------------------------------------\\n\\n\")\n",
    "print(\"Input data Linear Regression Data\")\n",
    "print(\"Nepochs              = \", Nepochs)\n",
    "print(\"learning rate        = \", learning_rate)\n",
    "print(\"Optimser             =  Adam\")\n",
    "print(\"Loss function        =  MSE\")\n",
    "\n",
    "history  = model.fit( x_train, y_train, epochs=Nepochs)\n",
    "\n",
    "# Print out the history keys expected are:\n",
    "#    loss        The loss function evaluated at each epoch for the training set\n",
    "#    acc         The accuracy evaluated at each epoch for the training set\n",
    "print(\"history keys = \", history.history.keys())\n",
    "\n",
    "print(\"Display the evolution of the loss as a function of the training epoch\")\n",
    "print(\"  N(Epochs)                = \", Nepochs)\n",
    "print(\"  Initial loss (train)     = {:5.4f}\".format( history.history['loss'][0]) )\n",
    "print(\"  Final loss (train)       = {:5.4f}\".format( history.history['loss'][-1]) )"
   ]
  },
  {
   "cell_type": "code",
   "execution_count": 28,
   "metadata": {},
   "outputs": [
    {
     "name": "stdout",
     "output_type": "stream",
     "text": [
      "\n",
      "Plotting the loss function evolution as a function of training epoch\n",
      "\n"
     ]
    },
    {
     "data": {
      "image/png": "[encoded data removed]",
      "text/plain": [
       "<Figure size 432x288 with 1 Axes>"
      ]
     },
     "metadata": {
      "needs_background": "light"
     },
     "output_type": "display_data"
    },
    {
     "name": "stdout",
     "output_type": "stream",
     "text": [
      "\tm =  1.0729394\n",
      "\tc =  -0.1190357\n",
      "\tMSE loss = \n",
      "\t Fitted line xrange = [-10, 10], y range = [-10.848429657518864, 10.610358260571957]\n",
      "\n",
      "Plotting the optimised model and test data\n",
      "\n"
     ]
    },
    {
     "data": {
      "image/png": "[encoded data removed]",
      "text/plain": [
       "<Figure size 432x288 with 1 Axes>"
      ]
     },
     "metadata": {
      "needs_background": "light"
     },
     "output_type": "display_data"
    }
   ],
   "source": [
    "# summarize history for loss\n",
    "print(\"\\nPlotting the loss function evolution as a function of training epoch\\n\")\n",
    "plt.plot(history.history['loss'])\n",
    "plt.title('model loss')\n",
    "plt.ylabel('loss')\n",
    "plt.xlabel('epoch')\n",
    "plt.yscale('log')\n",
    "plt.show()\n",
    "plt.clf()\n",
    "\n",
    "# plot the model for the data\n",
    "# we are interested in the first layer\n",
    "layer = model.layers[0]\n",
    "weights, biases = layer.get_weights()\n",
    "miny = weights[0][0]*minx+biases[0]\n",
    "maxy = weights[0][0]*maxx+biases[0]\n",
    "\n",
    "print(\"\\tm = \", weights[0][0])\n",
    "print(\"\\tc = \", biases[0])\n",
    "print(\"\\tMSE loss = \".format( history.history['loss'][-1]) )\n",
    "print(\"\\t Fitted line xrange = {:}, y range = {:}\".format([minx, maxx], [miny, maxy]))\n",
    "\n",
    "print(\"\\nPlotting the optimised model and test data\\n\")\n",
    "plt.plot(x_test, y_test, \"r.\")\n",
    "plt.plot([minx, maxx], [miny, maxy], \"b-\")  # plot the fitted line\n",
    "plt.ylabel('y')\n",
    "plt.xlabel('x')\n",
    "plt.legend(\"test data\", \"fitted model\")\n",
    "plt.show()\n"
   ]
  },
  {
   "cell_type": "markdown",
   "metadata": {},
   "source": [
    "## Suggested exercises:\n",
    "\n",
    " - Change the number of training examples to see how this affects the optimisation performance (increase by a factor of 10 and decrease by a factor of 10).\n",
    " - Change the value of m and c to extract, Try $m=10$, $c=5$, to explore how this affects the training.  You may also need to change the number of epochs when doing this.\n",
    " - Change the noise level to study how this affects the optimisation.\n",
    " - change the learning rate to explore how robust the training is with the Adam optmiser.\n",
    " - You may also wish to explore the use of other optmisers: see https://keras.io/api/optimizers/."
   ]
  },
  {
   "cell_type": "code",
   "execution_count": null,
   "metadata": {},
   "outputs": [],
   "source": []
  }
 ],
 "metadata": {
  "kernelspec": {
   "display_name": "Python 3",
   "language": "python",
   "name": "python3"
  },
  "language_info": {
   "codemirror_mode": {
    "name": "ipython",
    "version": 3
   },
   "file_extension": ".py",
   "mimetype": "text/x-python",
   "name": "python",
   "nbconvert_exporter": "python",
   "pygments_lexer": "ipython3",
   "version": "3.7.3"
  }
 },
 "nbformat": 4,
 "nbformat_minor": 4
}
